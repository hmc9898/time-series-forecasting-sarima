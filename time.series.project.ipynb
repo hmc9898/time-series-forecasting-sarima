{
 "cells": [
  {
   "cell_type": "markdown",
   "metadata": {},
   "source": [
    "## Preparation"
   ]
  },
  {
   "cell_type": "code",
   "execution_count": null,
   "metadata": {},
   "outputs": [],
   "source": [
    "import pandas as pd\n",
    "import numpy as np\n",
    "import time\n",
    "from matplotlib import pyplot as plt\n",
    "from sklearn.linear_model import LinearRegression\n",
    "from sklearn.metrics import mean_squared_error\n",
    "from sklearn.ensemble import RandomForestRegressor\n",
    "import lightgbm as lgb"
   ]
  },
  {
   "cell_type": "code",
   "execution_count": null,
   "metadata": {},
   "outputs": [],
   "source": [
    "df=pd.read_csv('/datasets/taxi.csv', index_col=0, parse_dates=[0])"
   ]
  },
  {
   "cell_type": "code",
   "execution_count": null,
   "metadata": {},
   "outputs": [],
   "source": [
    "df.info()"
   ]
  },
  {
   "cell_type": "code",
   "execution_count": null,
   "metadata": {},
   "outputs": [],
   "source": [
    "df.head()"
   ]
  },
  {
   "cell_type": "code",
   "execution_count": null,
   "metadata": {},
   "outputs": [],
   "source": [
    "df=df.resample('1H').sum()"
   ]
  },
  {
   "cell_type": "code",
   "execution_count": null,
   "metadata": {},
   "outputs": [],
   "source": [
    "df.head()"
   ]
  },
  {
   "cell_type": "code",
   "execution_count": null,
   "metadata": {},
   "outputs": [],
   "source": [
    "df.isna().sum()"
   ]
  },
  {
   "cell_type": "markdown",
   "metadata": {},
   "source": [
    "## Analysis"
   ]
  },
  {
   "cell_type": "code",
   "execution_count": null,
   "metadata": {},
   "outputs": [],
   "source": [
    "df.plot(figsize=(15,5), legend=False)\n",
    "plt.title('Taxi Orders Over Time (Hourly)')\n",
    "plt.xlabel('Time')\n",
    "plt.ylabel('Number of Orders')\n",
    "plt.show()"
   ]
  },
  {
   "cell_type": "markdown",
   "metadata": {},
   "source": [
    "Lets look at just August and September for a closer look:"
   ]
  },
  {
   "cell_type": "code",
   "execution_count": null,
   "metadata": {},
   "outputs": [],
   "source": [
    "df['2018-08':'2018-09'].plot(figsize=(15,5), legend=False)\n",
    "plt.title('Taxi Orders (August-September 2018)')\n",
    "plt.xlabel('Time')\n",
    "plt.ylabel('Number of Orders')\n",
    "plt.show()"
   ]
  },
  {
   "cell_type": "code",
   "execution_count": null,
   "metadata": {},
   "outputs": [],
   "source": [
    "df['rolling_mean_24h']=df['num_orders'].rolling(24).mean()\n",
    "\n",
    "plt.figure(figsize=(15,5))\n",
    "plt.plot(df['num_orders'], label='Hourly Orders')\n",
    "plt.plot(df['rolling_mean_24h'], label='24-Hour Moving Average', linewidth=3)\n",
    "plt.title('Taxi Orders with 24-Hour Moving Average')\n",
    "plt.xlabel('Time')\n",
    "plt.ylabel('Number of Orders')\n",
    "plt.legend()\n",
    "plt.show()"
   ]
  },
  {
   "cell_type": "code",
   "execution_count": null,
   "metadata": {},
   "outputs": [],
   "source": [
    "df['rolling_mean_168h']=df['num_orders'].rolling(168).mean()\n",
    "\n",
    "plt.figure(figsize=(15,5))\n",
    "plt.plot(df['num_orders'], label='Hourly Orders')\n",
    "plt.plot(df['rolling_mean_168h'], label='7-Day Moving Average', linewidth=3)\n",
    "plt.title('Taxi Orders with 7-Day Moving Average')\n",
    "plt.xlabel('Time')\n",
    "plt.ylabel('Number of Orders')\n",
    "plt.legend()\n",
    "plt.show()"
   ]
  },
  {
   "cell_type": "markdown",
   "metadata": {},
   "source": [
    "We successfully loaded and resampled the Sweet Lift taxi order data to one-hour intervals without encountering missing values. Visual analysis revealed clear daily and weekly patterns, with higher demand during typical peak hours. Moving averages were applied to better visualize short- and long-term trends, confirming the presence of seasonality in the data. The dataset is now clean, structured, and ready for modeling."
   ]
  },
  {
   "cell_type": "markdown",
   "metadata": {},
   "source": [
    "## Training"
   ]
  },
  {
   "cell_type": "code",
   "execution_count": null,
   "metadata": {},
   "outputs": [],
   "source": [
    "split_index= int(len(df) * 0.9)\n",
    "\n",
    "train=df.iloc[:split_index]\n",
    "test=df.iloc[split_index:]\n",
    "\n",
    "print('Train Shape:', train.shape)\n",
    "print('Test Shape:', test.shape)"
   ]
  },
  {
   "cell_type": "code",
   "execution_count": null,
   "metadata": {},
   "outputs": [],
   "source": [
    "print('Last train date:', train.index.max())\n",
    "print('First test date:', test.index.min())"
   ]
  },
  {
   "cell_type": "markdown",
   "metadata": {},
   "source": [
    "Great, no gaps or overlap in the split, while using the newer data for test and the older test for training. "
   ]
  },
  {
   "cell_type": "code",
   "execution_count": null,
   "metadata": {},
   "outputs": [],
   "source": [
    "def make_features(data, lags=[1, 2, 3], rolling_windows=[24, 168]):\n",
    "    data = data.copy()\n",
    "    for lag in lags:\n",
    "        data[f'lag_{lag}'] = data['num_orders'].shift(lag)\n",
    "    for window in rolling_windows:\n",
    "        data[f'rolling_mean_{window}'] = data['num_orders'].shift(1).rolling(window=window).mean()\n",
    "    data['hour'] = data.index.hour\n",
    "    data['day_of_week'] = data.index.dayofweek\n",
    "    return data.dropna()"
   ]
  },
  {
   "cell_type": "code",
   "execution_count": null,
   "metadata": {},
   "outputs": [],
   "source": [
    "train_features=make_features(train)\n",
    "test_features= make_features(test)"
   ]
  },
  {
   "cell_type": "code",
   "execution_count": null,
   "metadata": {},
   "outputs": [],
   "source": [
    "X_train = train_features.drop('num_orders', axis=1)\n",
    "y_train = train_features['num_orders']\n",
    "\n",
    "X_test = test_features.drop('num_orders', axis=1)\n",
    "y_test = test_features['num_orders']"
   ]
  },
  {
   "cell_type": "code",
   "execution_count": null,
   "metadata": {},
   "outputs": [],
   "source": [
    "#Linear Regression\n",
    "model= LinearRegression()\n",
    "model.fit(X_train, y_train)\n",
    "\n",
    "y_pred=model.predict(X_test)"
   ]
  },
  {
   "cell_type": "code",
   "execution_count": null,
   "metadata": {},
   "outputs": [],
   "source": [
    "#Random Forest\n",
    "rf_model = RandomForestRegressor(\n",
    "    n_estimators=100, \n",
    "    random_state=42,   \n",
    "    n_jobs=-1         \n",
    ")\n",
    "\n",
    "rf_model.fit(X_train, y_train)\n",
    "\n",
    "y_pred_rf= rf_model.predict(X_test)\n",
    "\n",
    "#Random Forest-model2\n",
    "rf_model2 = RandomForestRegressor(\n",
    "    n_estimators=300,        \n",
    "    max_depth=10,            \n",
    "    min_samples_split=5,     \n",
    "    min_samples_leaf=2,      \n",
    "    random_state=42,\n",
    "    n_jobs=-1      \n",
    ")\n",
    "\n",
    "rf_model2.fit(X_train, y_train)\n",
    "\n",
    "y_pred_rf2= rf_model2.predict(X_test)"
   ]
  },
  {
   "cell_type": "code",
   "execution_count": null,
   "metadata": {},
   "outputs": [],
   "source": [
    "#LightGBM\n",
    "lgb_model= lgb.LGBMRegressor(\n",
    "    n_estimators=1000,\n",
    "    learning_rate=0.05,\n",
    "    num_leaves=32,\n",
    "    random_state=42\n",
    ")\n",
    "\n",
    "lgb_model.fit(X_train,y_train)\n",
    "\n",
    "y_pred_lgb = lgb_model.predict(X_test)\n",
    "#LightGBM-model 2\n",
    "lgb_model2= lgb.LGBMRegressor(\n",
    "    n_estimators=500,\n",
    "    learning_rate=0.1,\n",
    "    num_leaves=64,\n",
    "    random_state=42\n",
    ")\n",
    "\n",
    "lgb_model2.fit(X_train,y_train)\n",
    "\n",
    "y_pred_lgb2 = lgb_model2.predict(X_test)"
   ]
  },
  {
   "cell_type": "markdown",
   "metadata": {},
   "source": [
    "## Testing"
   ]
  },
  {
   "cell_type": "code",
   "execution_count": null,
   "metadata": {},
   "outputs": [],
   "source": [
    "#Linear Regression\n",
    "rmse= np.sqrt(mean_squared_error(y_test, y_pred))\n",
    "print('Linear Regression Test RMSE:', rmse)\n",
    "\n",
    "#Random Forest\n",
    "rmse_rf= np.sqrt(mean_squared_error(y_test, y_pred_rf))\n",
    "print('Random Forest Test RMSE:', rmse_rf)\n",
    "\n",
    "#Random Forest-model2\n",
    "rmse_rf2 = np.sqrt(mean_squared_error(y_test, y_pred_rf2))\n",
    "print('Random Forest (different Hyperparameters) Test RMSE:', rmse_rf2)\n",
    "\n",
    "\n",
    "#LightGBM\n",
    "rmse_lgb= np.sqrt(mean_squared_error(y_test, y_pred_lgb))\n",
    "print('LightGBM Test RMSE:', rmse_lgb)\n",
    "\n",
    "\n",
    "#LightGBM-model2\n",
    "rmse_lgb2= np.sqrt(mean_squared_error(y_test, y_pred_lgb2))\n",
    "print('LightGBM (Different Hyperparameters) Test RMSE:', rmse_lgb2)\n"
   ]
  },
  {
   "cell_type": "markdown",
   "metadata": {},
   "source": [
    "During the training and testing phase, several models were trained on the training set and evaluated on the reserved 10% test set. Linear Regression achieved the best performance with a test RMSE of 40.67, successfully meeting the project’s target. Random Forest models, even after hyperparameter tuning, did not meet the required RMSE threshold, with test RMSE values of 70.79 and 52.82. LightGBM models, tested with two different hyperparameter settings, achieved consistent test RMSE values of 47.78, meeting the project goal. Based on these results, Linear Regression was selected as the final model for its superior predictive accuracy."
   ]
  },
  {
   "cell_type": "markdown",
   "metadata": {},
   "source": [
    "In this project, we developed a model to predict hourly taxi orders for Sweet Lift Taxi Company. After resampling the data and creating lag, rolling average, and time-based features, the dataset was split into 90% for training and 10% for testing. Several models were trained and evaluated, including Linear Regression, Random Forest, and LightGBM, with additional hyperparameter tuning applied to Random Forest and LightGBM.\n",
    "\n",
    "Linear Regression achieved the best performance with a test RMSE of 40.67, while LightGBM models achieved RMSE values of 47.78. Both models met the project’s RMSE target of 48. Random Forest models, however, did not meet the target despite hyperparameter tuning. Based on these results, Linear Regression was selected as the final model for its superior predictive accuracy. The final model will support Sweet Lift Taxi Company in optimizing driver allocation during peak hours."
   ]
  }
 ],
 "metadata": {
  "ExecuteTimeLog": [
   {
    "duration": 165,
    "start_time": "2025-04-28T19:51:50.968Z"
   },
   {
    "duration": 344,
    "start_time": "2025-04-28T19:52:10.435Z"
   },
   {
    "duration": 30,
    "start_time": "2025-04-28T19:52:12.274Z"
   },
   {
    "duration": 13,
    "start_time": "2025-04-28T19:52:25.236Z"
   },
   {
    "duration": 10,
    "start_time": "2025-04-28T19:52:32.982Z"
   },
   {
    "duration": 3,
    "start_time": "2025-04-28T19:53:58.562Z"
   },
   {
    "duration": 23,
    "start_time": "2025-04-28T19:56:41.860Z"
   },
   {
    "duration": 309,
    "start_time": "2025-04-28T19:58:25.650Z"
   },
   {
    "duration": 20,
    "start_time": "2025-04-28T19:58:25.961Z"
   },
   {
    "duration": 8,
    "start_time": "2025-04-28T19:58:25.982Z"
   },
   {
    "duration": 29,
    "start_time": "2025-04-28T19:58:25.992Z"
   },
   {
    "duration": 21,
    "start_time": "2025-04-28T19:59:40.991Z"
   },
   {
    "duration": 9,
    "start_time": "2025-04-28T19:59:42.245Z"
   },
   {
    "duration": 10,
    "start_time": "2025-04-28T19:59:43.044Z"
   },
   {
    "duration": 6,
    "start_time": "2025-04-28T20:00:03.576Z"
   },
   {
    "duration": 294,
    "start_time": "2025-04-28T20:00:17.165Z"
   },
   {
    "duration": 20,
    "start_time": "2025-04-28T20:00:17.461Z"
   },
   {
    "duration": 8,
    "start_time": "2025-04-28T20:00:17.482Z"
   },
   {
    "duration": 13,
    "start_time": "2025-04-28T20:00:17.491Z"
   },
   {
    "duration": 5,
    "start_time": "2025-04-28T20:00:17.521Z"
   },
   {
    "duration": 8,
    "start_time": "2025-04-28T20:09:40.985Z"
   },
   {
    "duration": 6,
    "start_time": "2025-04-28T20:09:51.571Z"
   },
   {
    "duration": 5,
    "start_time": "2025-04-28T20:10:44.326Z"
   },
   {
    "duration": 2226,
    "start_time": "2025-04-28T20:12:05.314Z"
   },
   {
    "duration": 284,
    "start_time": "2025-04-28T20:14:56.104Z"
   },
   {
    "duration": 5,
    "start_time": "2025-04-28T20:15:03.273Z"
   },
   {
    "duration": 301,
    "start_time": "2025-04-28T20:15:12.967Z"
   },
   {
    "duration": 3,
    "start_time": "2025-04-28T20:18:15.466Z"
   },
   {
    "duration": 4,
    "start_time": "2025-04-28T20:18:49.495Z"
   },
   {
    "duration": 413,
    "start_time": "2025-04-28T20:19:38.469Z"
   },
   {
    "duration": 56,
    "start_time": "2025-04-28T20:19:38.885Z"
   },
   {
    "duration": 8,
    "start_time": "2025-04-28T20:19:38.943Z"
   },
   {
    "duration": 14,
    "start_time": "2025-04-28T20:19:38.952Z"
   },
   {
    "duration": 6,
    "start_time": "2025-04-28T20:19:38.969Z"
   },
   {
    "duration": 5,
    "start_time": "2025-04-28T20:19:38.976Z"
   },
   {
    "duration": 4,
    "start_time": "2025-04-28T20:19:38.983Z"
   },
   {
    "duration": 263,
    "start_time": "2025-04-28T20:19:38.989Z"
   },
   {
    "duration": 4,
    "start_time": "2025-04-28T20:19:39.254Z"
   },
   {
    "duration": 194,
    "start_time": "2025-04-28T20:20:07.145Z"
   },
   {
    "duration": 5,
    "start_time": "2025-04-28T20:36:02.130Z"
   },
   {
    "duration": 5,
    "start_time": "2025-04-28T20:45:37.568Z"
   },
   {
    "duration": 772,
    "start_time": "2025-04-28T20:46:17.081Z"
   },
   {
    "duration": 183,
    "start_time": "2025-04-28T20:47:04.829Z"
   },
   {
    "duration": 203,
    "start_time": "2025-04-28T20:47:36.098Z"
   },
   {
    "duration": 187,
    "start_time": "2025-04-28T20:51:07.610Z"
   },
   {
    "duration": 78,
    "start_time": "2025-04-28T20:55:50.076Z"
   },
   {
    "duration": 4,
    "start_time": "2025-04-28T20:55:54.333Z"
   },
   {
    "duration": 3,
    "start_time": "2025-04-28T20:57:40.780Z"
   },
   {
    "duration": 4,
    "start_time": "2025-04-28T21:07:39.563Z"
   },
   {
    "duration": 19,
    "start_time": "2025-04-28T21:07:40.375Z"
   },
   {
    "duration": 5,
    "start_time": "2025-04-28T21:07:40.850Z"
   },
   {
    "duration": 450,
    "start_time": "2025-04-28T21:08:39.063Z"
   },
   {
    "duration": 3,
    "start_time": "2025-04-28T21:09:27.578Z"
   },
   {
    "duration": 4,
    "start_time": "2025-04-28T21:13:03.451Z"
   },
   {
    "duration": 4,
    "start_time": "2025-04-28T21:13:07.865Z"
   },
   {
    "duration": 131,
    "start_time": "2025-04-28T21:17:02.909Z"
   },
   {
    "duration": 4,
    "start_time": "2025-04-28T21:17:58.539Z"
   },
   {
    "duration": 10,
    "start_time": "2025-04-28T21:18:04.767Z"
   },
   {
    "duration": 20,
    "start_time": "2025-04-28T21:21:13.046Z"
   },
   {
    "duration": 1631,
    "start_time": "2025-04-28T21:23:44.014Z"
   },
   {
    "duration": 1621,
    "start_time": "2025-04-28T21:23:54.804Z"
   },
   {
    "duration": 28,
    "start_time": "2025-04-28T21:25:41.393Z"
   },
   {
    "duration": 20,
    "start_time": "2025-04-28T21:33:15.131Z"
   },
   {
    "duration": 2493,
    "start_time": "2025-04-28T21:33:23.243Z"
   },
   {
    "duration": 2402,
    "start_time": "2025-04-28T21:34:09.530Z"
   },
   {
    "duration": 29,
    "start_time": "2025-04-28T21:37:15.866Z"
   },
   {
    "duration": 2361,
    "start_time": "2025-04-28T21:39:23.059Z"
   },
   {
    "duration": 4618,
    "start_time": "2025-04-28T21:41:20.206Z"
   },
   {
    "duration": 4717,
    "start_time": "2025-04-28T21:41:34.107Z"
   },
   {
    "duration": 7,
    "start_time": "2025-04-28T21:48:07.413Z"
   },
   {
    "duration": 1619,
    "start_time": "2025-04-28T21:48:21.067Z"
   },
   {
    "duration": 5,
    "start_time": "2025-04-28T21:48:50.051Z"
   },
   {
    "duration": 5,
    "start_time": "2025-04-28T21:49:11.091Z"
   },
   {
    "duration": 5,
    "start_time": "2025-04-28T21:50:04.458Z"
   },
   {
    "duration": 20,
    "start_time": "2025-04-28T21:54:22.532Z"
   },
   {
    "duration": 5331,
    "start_time": "2025-04-28T21:55:01.015Z"
   },
   {
    "duration": 22199,
    "start_time": "2025-04-28T21:55:06.351Z"
   },
   {
    "duration": 11,
    "start_time": "2025-04-28T21:55:28.556Z"
   },
   {
    "duration": 948,
    "start_time": "2025-04-28T21:59:37.736Z"
   },
   {
    "duration": 21,
    "start_time": "2025-04-28T21:59:38.686Z"
   },
   {
    "duration": 24,
    "start_time": "2025-04-28T21:59:38.708Z"
   },
   {
    "duration": 7,
    "start_time": "2025-04-28T21:59:38.748Z"
   },
   {
    "duration": 7,
    "start_time": "2025-04-28T21:59:38.757Z"
   },
   {
    "duration": 5,
    "start_time": "2025-04-28T21:59:38.765Z"
   },
   {
    "duration": 4,
    "start_time": "2025-04-28T21:59:38.772Z"
   },
   {
    "duration": 238,
    "start_time": "2025-04-28T21:59:38.778Z"
   },
   {
    "duration": 205,
    "start_time": "2025-04-28T21:59:39.018Z"
   },
   {
    "duration": 201,
    "start_time": "2025-04-28T21:59:39.226Z"
   },
   {
    "duration": 199,
    "start_time": "2025-04-28T21:59:39.428Z"
   },
   {
    "duration": 7,
    "start_time": "2025-04-28T21:59:39.628Z"
   },
   {
    "duration": 18,
    "start_time": "2025-04-28T21:59:39.636Z"
   },
   {
    "duration": 4,
    "start_time": "2025-04-28T21:59:39.655Z"
   },
   {
    "duration": 14,
    "start_time": "2025-04-28T21:59:39.660Z"
   },
   {
    "duration": 3,
    "start_time": "2025-04-28T21:59:39.676Z"
   },
   {
    "duration": 6,
    "start_time": "2025-04-28T21:59:39.681Z"
   },
   {
    "duration": 4900,
    "start_time": "2025-04-28T21:59:39.690Z"
   },
   {
    "duration": 26677,
    "start_time": "2025-04-28T21:59:44.591Z"
   },
   {
    "duration": 11,
    "start_time": "2025-04-28T22:00:11.324Z"
   },
   {
    "duration": 1027,
    "start_time": "2025-04-28T22:02:49.172Z"
   },
   {
    "duration": 46,
    "start_time": "2025-04-28T22:02:50.201Z"
   },
   {
    "duration": 10,
    "start_time": "2025-04-28T22:02:50.250Z"
   },
   {
    "duration": 10,
    "start_time": "2025-04-28T22:02:50.263Z"
   },
   {
    "duration": 7,
    "start_time": "2025-04-28T22:02:50.276Z"
   },
   {
    "duration": 7,
    "start_time": "2025-04-28T22:02:50.285Z"
   },
   {
    "duration": 5,
    "start_time": "2025-04-28T22:02:50.293Z"
   },
   {
    "duration": 264,
    "start_time": "2025-04-28T22:02:50.300Z"
   },
   {
    "duration": 213,
    "start_time": "2025-04-28T22:02:50.567Z"
   },
   {
    "duration": 226,
    "start_time": "2025-04-28T22:02:50.782Z"
   },
   {
    "duration": 237,
    "start_time": "2025-04-28T22:02:51.010Z"
   },
   {
    "duration": 4,
    "start_time": "2025-04-28T22:02:51.250Z"
   },
   {
    "duration": 3,
    "start_time": "2025-04-28T22:02:51.256Z"
   },
   {
    "duration": 3,
    "start_time": "2025-04-28T22:02:51.263Z"
   },
   {
    "duration": 15,
    "start_time": "2025-04-28T22:02:51.268Z"
   },
   {
    "duration": 5,
    "start_time": "2025-04-28T22:02:51.285Z"
   },
   {
    "duration": 9,
    "start_time": "2025-04-28T22:02:51.291Z"
   },
   {
    "duration": 4932,
    "start_time": "2025-04-28T22:02:51.319Z"
   },
   {
    "duration": 948,
    "start_time": "2025-04-28T23:06:35.471Z"
   },
   {
    "duration": 24,
    "start_time": "2025-04-28T23:06:36.423Z"
   },
   {
    "duration": 8,
    "start_time": "2025-04-28T23:06:36.449Z"
   },
   {
    "duration": 9,
    "start_time": "2025-04-28T23:06:36.458Z"
   },
   {
    "duration": 6,
    "start_time": "2025-04-28T23:06:36.470Z"
   },
   {
    "duration": 5,
    "start_time": "2025-04-28T23:06:36.478Z"
   },
   {
    "duration": 5,
    "start_time": "2025-04-28T23:06:36.485Z"
   },
   {
    "duration": 243,
    "start_time": "2025-04-28T23:06:36.491Z"
   },
   {
    "duration": 203,
    "start_time": "2025-04-28T23:06:36.736Z"
   },
   {
    "duration": 195,
    "start_time": "2025-04-28T23:06:36.941Z"
   },
   {
    "duration": 197,
    "start_time": "2025-04-28T23:06:37.138Z"
   },
   {
    "duration": 3,
    "start_time": "2025-04-28T23:06:37.337Z"
   },
   {
    "duration": 4,
    "start_time": "2025-04-28T23:06:37.342Z"
   },
   {
    "duration": 3,
    "start_time": "2025-04-28T23:06:37.349Z"
   },
   {
    "duration": 16,
    "start_time": "2025-04-28T23:06:37.353Z"
   },
   {
    "duration": 4,
    "start_time": "2025-04-28T23:06:37.370Z"
   },
   {
    "duration": 6,
    "start_time": "2025-04-28T23:06:37.376Z"
   },
   {
    "duration": 4766,
    "start_time": "2025-04-28T23:06:37.383Z"
   },
   {
    "duration": 5172,
    "start_time": "2025-04-28T23:06:42.152Z"
   },
   {
    "duration": 7,
    "start_time": "2025-04-28T23:06:47.327Z"
   }
  ],
  "kernelspec": {
   "display_name": "Python 3 (ipykernel)",
   "language": "python",
   "name": "python3"
  },
  "language_info": {
   "codemirror_mode": {
    "name": "ipython",
    "version": 3
   },
   "file_extension": ".py",
   "mimetype": "text/x-python",
   "name": "python",
   "nbconvert_exporter": "python",
   "pygments_lexer": "ipython3",
   "version": "3.9.19"
  },
  "toc": {
   "base_numbering": 1,
   "nav_menu": {},
   "number_sections": true,
   "sideBar": true,
   "skip_h1_title": true,
   "title_cell": "Table of Contents",
   "title_sidebar": "Contents",
   "toc_cell": false,
   "toc_position": {},
   "toc_section_display": true,
   "toc_window_display": false
  }
 },
 "nbformat": 4,
 "nbformat_minor": 2
}
